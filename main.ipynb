{
 "cells": [
  {
   "cell_type": "code",
   "execution_count": 28,
   "metadata": {
    "collapsed": true,
    "ExecuteTime": {
     "end_time": "2024-07-02T14:35:59.714620Z",
     "start_time": "2024-07-02T14:35:59.709194Z"
    }
   },
   "outputs": [],
   "source": [
    "from openimages.download import download_dataset\n",
    "import os\n",
    "import shutil\n",
    "from sklearn.model_selection import train_test_split\n",
    "import glob as glob\n",
    "import matplotlib.pyplot as plt\n",
    "import matplotlib.patches as patches\n",
    "import cv2\n",
    "import numpy as np\n",
    "import re\n",
    "import ast\n",
    "import random\n",
    "import pandas as pd\n",
    "from PIL import Image\n",
    "import albumentations as A\n",
    "from collections import namedtuple\n",
    "from albumentations.pytorch.transforms import ToTensorV2\n",
    "from pathlib import Path\n",
    "\n",
    "np.random.seed(42)"
   ]
  },
  {
   "cell_type": "code",
   "execution_count": 29,
   "outputs": [],
   "source": [
    "TRAIN = True\n",
    "EPOCHS = 10"
   ],
   "metadata": {
    "collapsed": false,
    "ExecuteTime": {
     "end_time": "2024-07-02T14:36:00.943124Z",
     "start_time": "2024-07-02T14:36:00.911466Z"
    }
   }
  },
  {
   "cell_type": "markdown",
   "source": [
    "## Download and Split the Data"
   ],
   "metadata": {
    "collapsed": false
   }
  },
  {
   "cell_type": "code",
   "execution_count": null,
   "outputs": [],
   "source": [
    "# select classes to be downloaded\n",
    "class_names = [\"Alpaca\"]\n",
    "\n",
    "# download the images and annotations for the specified classes\n",
    "if __name__ == \"__main__\":\n",
    "    download_dataset(dest_dir='data/', class_labels=class_names, annotation_format='darknet')"
   ],
   "metadata": {
    "collapsed": false
   }
  },
  {
   "cell_type": "code",
   "execution_count": null,
   "outputs": [],
   "source": [
    "# rename directory for yolo format\n",
    "current_dir = 'data/alpaca/darknet'\n",
    "new_dir = 'data/alpaca/labels'\n",
    "\n",
    "os.rename(current_dir, new_dir)\n",
    "\n",
    "print(f\"Directory renamed from {current_dir} to {new_dir}\")"
   ],
   "metadata": {
    "collapsed": false
   }
  },
  {
   "cell_type": "code",
   "execution_count": 33,
   "outputs": [
    {
     "name": "stdout",
     "output_type": "stream",
     "text": [
      "Number of images: 142\n",
      "Number of labels: 142\n"
     ]
    }
   ],
   "source": [
    "# define paths to images and labels\n",
    "base_dir = 'data/alpaca'\n",
    "images_dir = os.path.join(base_dir, 'images')\n",
    "labels_dir = os.path.join(base_dir, 'labels')\n",
    "\n",
    "# count the number of files in each directory\n",
    "num_images = len([name for name in os.listdir(images_dir) if os.path.isfile(os.path.join(images_dir, name))])\n",
    "num_labels = len([name for name in os.listdir(labels_dir) if os.path.isfile(os.path.join(labels_dir, name))])\n",
    "\n",
    "print(f\"Number of images: {num_images}\")\n",
    "print(f\"Number of labels: {num_labels}\")"
   ],
   "metadata": {
    "collapsed": false,
    "ExecuteTime": {
     "end_time": "2024-07-02T14:39:53.914510Z",
     "start_time": "2024-07-02T14:39:53.879118Z"
    }
   }
  },
  {
   "cell_type": "code",
   "execution_count": 34,
   "outputs": [],
   "source": [
    "# create subdirectories\n",
    "subdirs = ['train', 'validation', 'test']\n",
    "for subdir in subdirs:\n",
    "    os.makedirs(os.path.join(images_dir, subdir), exist_ok=True)\n",
    "    os.makedirs(os.path.join(labels_dir, subdir), exist_ok=True)"
   ],
   "metadata": {
    "collapsed": false,
    "ExecuteTime": {
     "end_time": "2024-07-02T14:39:57.123515Z",
     "start_time": "2024-07-02T14:39:57.088349Z"
    }
   }
  },
  {
   "cell_type": "code",
   "execution_count": 35,
   "outputs": [],
   "source": [
    "# set list of files\n",
    "image_files = [f for f in os.listdir(images_dir) if f.endswith('.jpg')]\n",
    "label_files = [f for f in os.listdir(labels_dir) if f.endswith('.txt')]\n",
    "\n",
    "# sort the files to ensure matching\n",
    "image_files.sort()\n",
    "label_files.sort()"
   ],
   "metadata": {
    "collapsed": false,
    "ExecuteTime": {
     "end_time": "2024-07-02T14:39:57.911004Z",
     "start_time": "2024-07-02T14:39:57.875597Z"
    }
   }
  },
  {
   "cell_type": "code",
   "execution_count": 36,
   "outputs": [],
   "source": [
    "# split the data\n",
    "train_images, temp_images, train_labels, temp_labels = train_test_split(image_files, label_files, test_size=48, random_state=42)\n",
    "validation_images, test_images, validation_labels, test_labels = train_test_split(temp_images, temp_labels, test_size=34, random_state=42)"
   ],
   "metadata": {
    "collapsed": false,
    "ExecuteTime": {
     "end_time": "2024-07-02T14:39:59.196828Z",
     "start_time": "2024-07-02T14:39:59.163672Z"
    }
   }
  },
  {
   "cell_type": "code",
   "execution_count": 37,
   "outputs": [],
   "source": [
    "# function to move files to respective directories\n",
    "def move_files(file_list, src_dir, dest_dir):\n",
    "    for file in file_list:\n",
    "        shutil.move(os.path.join(src_dir, file), os.path.join(dest_dir, file))"
   ],
   "metadata": {
    "collapsed": false,
    "ExecuteTime": {
     "end_time": "2024-07-02T14:39:59.908479Z",
     "start_time": "2024-07-02T14:39:59.873277Z"
    }
   }
  },
  {
   "cell_type": "code",
   "execution_count": 38,
   "outputs": [],
   "source": [
    "# move the files to new directories\n",
    "move_files(train_images, images_dir, os.path.join(images_dir, 'train'))\n",
    "move_files(validation_images, images_dir, os.path.join(images_dir, 'validation'))\n",
    "move_files(test_images, images_dir, os.path.join(images_dir, 'test'))\n",
    "\n",
    "move_files(train_labels, labels_dir, os.path.join(labels_dir, 'train'))\n",
    "move_files(validation_labels, labels_dir, os.path.join(labels_dir, 'validation'))\n",
    "move_files(test_labels, labels_dir, os.path.join(labels_dir, 'test'))"
   ],
   "metadata": {
    "collapsed": false,
    "ExecuteTime": {
     "end_time": "2024-07-02T14:40:01.503240Z",
     "start_time": "2024-07-02T14:40:01.464029Z"
    }
   }
  },
  {
   "cell_type": "markdown",
   "source": [
    "## Data Exploration"
   ],
   "metadata": {
    "collapsed": false
   }
  },
  {
   "cell_type": "markdown",
   "source": [
    "### Helper Functions"
   ],
   "metadata": {
    "collapsed": false
   }
  },
  {
   "cell_type": "code",
   "execution_count": 57,
   "outputs": [],
   "source": [
    "def yolo_to_bbox(yolo_bbox, img_width, img_height):\n",
    "    \"\"\"\n",
    "    Convert YOLO bounding box format to [xmin, ymin, width, height] format.\n",
    "    \"\"\"\n",
    "    class_id, x_center, y_center, width, height = map(float, yolo_bbox.split())\n",
    "    xmin = (x_center - width / 2) * img_width\n",
    "    ymin = (y_center - height / 2) * img_height\n",
    "    bbox_width = width * img_width\n",
    "    bbox_height = height * img_height\n",
    "\n",
    "    return class_id, xmin, ymin, bbox_width, bbox_height"
   ],
   "metadata": {
    "collapsed": false,
    "ExecuteTime": {
     "end_time": "2024-07-02T14:44:28.874247Z",
     "start_time": "2024-07-02T14:44:28.852434Z"
    }
   }
  },
  {
   "cell_type": "code",
   "execution_count": 58,
   "outputs": [],
   "source": [
    "def visualize_bounding_boxes(image_path, label_path):\n",
    "    \"\"\"\n",
    "    Visualize bounding boxes on the image.\n",
    "    \"\"\"\n",
    "    # Read image\n",
    "    image = cv2.imread(image_path)\n",
    "    image = cv2.cvtColor(image, cv2.COLOR_BGR2RGB)\n",
    "    img_height, img_width, _ = image.shape\n",
    "\n",
    "    # Create figure and axes\n",
    "    fig, ax = plt.subplots(1)\n",
    "    ax.imshow(image)\n",
    "\n",
    "    # Read bounding box annotations\n",
    "    with open(label_path, 'r') as f:\n",
    "        bboxes = f.readlines()\n",
    "\n",
    "    # Plot each bounding box\n",
    "    for bbox in bboxes:\n",
    "        class_id, xmin, ymin, bbox_width, bbox_height = yolo_to_bbox(bbox, img_width, img_height)\n",
    "        rect = patches.Rectangle((xmin, ymin), bbox_width, bbox_height, linewidth=2, edgecolor='r', facecolor='none')\n",
    "        ax.add_patch(rect)\n",
    "\n",
    "    plt.show()"
   ],
   "metadata": {
    "collapsed": false,
    "ExecuteTime": {
     "end_time": "2024-07-02T14:44:29.468439Z",
     "start_time": "2024-07-02T14:44:29.446605Z"
    }
   }
  },
  {
   "cell_type": "code",
   "execution_count": 59,
   "outputs": [],
   "source": [
    "def get_first_n_files(directory, n):\n",
    "    \"\"\"\n",
    "    Get the first n files in the directory sorted by their names.\n",
    "    \"\"\"\n",
    "    files = sorted([f for f in os.listdir(directory) if os.path.isfile(os.path.join(directory, f))])\n",
    "    return files[:n]"
   ],
   "metadata": {
    "collapsed": false,
    "ExecuteTime": {
     "end_time": "2024-07-02T14:44:30.342387Z",
     "start_time": "2024-07-02T14:44:30.319568Z"
    }
   }
  },
  {
   "cell_type": "code",
   "execution_count": 60,
   "outputs": [],
   "source": [
    "def process_files(image_dir, label_dir, n):\n",
    "    \"\"\"\n",
    "    Process the first n files in the directory.\n",
    "    \"\"\"\n",
    "    # get the first n files from the image and label directories\n",
    "    image_files = get_first_n_files(image_dir, n)\n",
    "    label_files = get_first_n_files(label_dir, n)\n",
    "\n",
    "    # import images and labels and visualize\n",
    "    for image_file, label_file in zip(image_files, label_files):\n",
    "        image_path = os.path.join(image_dir, image_file)\n",
    "        label_path = os.path.join(label_dir, label_file)\n",
    "        print(f\"Processing {image_path} and {label_path}\")\n",
    "        visualize_bounding_boxes(image_path, label_path)"
   ],
   "metadata": {
    "collapsed": false,
    "ExecuteTime": {
     "end_time": "2024-07-02T14:44:30.870508Z",
     "start_time": "2024-07-02T14:44:30.847611Z"
    }
   }
  },
  {
   "cell_type": "markdown",
   "source": [
    "### Plot some images"
   ],
   "metadata": {
    "collapsed": false
   }
  },
  {
   "cell_type": "code",
   "execution_count": null,
   "outputs": [],
   "source": [
    "# select directories and number of images\n",
    "image_dir = 'data/alpaca/images/train'\n",
    "label_dir = 'data/alpaca/labels/train'\n",
    "n = 5\n",
    "\n",
    "# visualize\n",
    "process_files(image_dir, label_dir, n)"
   ],
   "metadata": {
    "collapsed": false
   }
  },
  {
   "cell_type": "markdown",
   "source": [
    "## Data Augmentation"
   ],
   "metadata": {
    "collapsed": false
   }
  },
  {
   "cell_type": "markdown",
   "source": [
    "### Helper Functions"
   ],
   "metadata": {
    "collapsed": false
   }
  },
  {
   "cell_type": "code",
   "execution_count": 55,
   "outputs": [],
   "source": [
    "def create_bboxes_df(directory):\n",
    "    \"\"\"\n",
    "    Returns dataframe with bounding boxes for each image\n",
    "    \"\"\"\n",
    "    data = []\n",
    "    for filename in os.listdir(directory):\n",
    "        if filename.endswith('.txt'):\n",
    "            file_path = os.path.join(directory, filename)\n",
    "            with open(file_path, 'r') as file:\n",
    "                lines = file.readlines()\n",
    "                for line in lines:\n",
    "                    components = line.strip().split()\n",
    "                    x_center = float(components[1])\n",
    "                    y_center = float(components[2])\n",
    "                    width = float(components[3])\n",
    "                    height = float(components[4])\n",
    "\n",
    "                    image_id = os.path.splitext(filename)[0]\n",
    "\n",
    "                    data.append([image_id, x_center, y_center, width, height])\n",
    "\n",
    "    return pd.DataFrame(data, columns=['image_id', 'x_center', 'y_center', 'width', 'height'])"
   ],
   "metadata": {
    "collapsed": false,
    "ExecuteTime": {
     "end_time": "2024-07-02T14:44:18.659681Z",
     "start_time": "2024-07-02T14:44:18.624245Z"
    }
   }
  },
  {
   "cell_type": "code",
   "execution_count": 56,
   "outputs": [],
   "source": [
    "def draw_rect(img, bboxes, color=(255, 0, 0)):\n",
    "    \"\"\"\n",
    "    Draws bounding boxes on a given image\n",
    "    \"\"\"\n",
    "    img = img.copy()\n",
    "    height, width, _ = img.shape\n",
    "\n",
    "    for bbox in bboxes:\n",
    "        # convert YOLO format to x_min, y_min, x_max, y_max\n",
    "        x_center, y_center, box_width, box_height = bbox[0], bbox[1], bbox[2], bbox[3]\n",
    "\n",
    "        x_min = int((x_center - box_width / 2) * width)\n",
    "        y_min = int((y_center - box_height / 2) * height)\n",
    "        x_max = int((x_center + box_width / 2) * width)\n",
    "        y_max = int((y_center + box_height / 2) * height)\n",
    "\n",
    "        img = cv2.rectangle(img, (x_min, y_min), (x_max, y_max), color, thickness=2)\n",
    "\n",
    "    return img\n",
    "\n",
    "def read_img(img_id):\n",
    "    \"\"\"\n",
    "    Reads the image\n",
    "    \"\"\"\n",
    "    train_dir = 'data/alpaca/images/train'\n",
    "    img_path = f'{train_dir}/{img_id}.jpg'\n",
    "    img = cv2.imread(str(img_path))\n",
    "    return img\n",
    "\n",
    "def read_bboxes(img_id, df):\n",
    "    \"\"\"\n",
    "    Gets all bounding boxes for a given image\n",
    "    \"\"\"\n",
    "    return df.loc[df.image_id == img_id, 'x_center y_center width height'.split()].values\n",
    "\n",
    "def plot_img(img_id, df, bbox=False):\n",
    "    \"\"\"\n",
    "    Plot image with bounding boxes\n",
    "    \"\"\"\n",
    "    img = read_img(img_id)\n",
    "    if bbox:\n",
    "        bboxes = read_bboxes(img_id, df)\n",
    "        img = draw_rect(img, bboxes)\n",
    "    plt.imshow(img)\n",
    "\n",
    "def plot_multiple_img(img_matrix_list, title_list, ncols, nrows=2, main_title=\"\"):\n",
    "    fig, myaxes = plt.subplots(figsize=(20, 15), nrows=nrows, ncols=ncols, squeeze=False)\n",
    "    fig.suptitle(main_title, fontsize=30)\n",
    "    fig.subplots_adjust(wspace=0.3, hspace=0.3)\n",
    "    for i, (img, title) in enumerate(zip(img_matrix_list, title_list)):\n",
    "        myaxes[i // ncols][i % ncols].imshow(img)\n",
    "        myaxes[i // ncols][i % ncols].set_title(title, fontsize=15)\n",
    "        myaxes[i // ncols][i % ncols].grid(False)\n",
    "        myaxes[i // ncols][i % ncols].set_xticks([])\n",
    "        myaxes[i // ncols][i % ncols].set_yticks([])\n",
    "\n",
    "    plt.show()"
   ],
   "metadata": {
    "collapsed": false,
    "ExecuteTime": {
     "end_time": "2024-07-02T14:44:20.978795Z",
     "start_time": "2024-07-02T14:44:20.963341Z"
    }
   }
  },
  {
   "cell_type": "code",
   "execution_count": 42,
   "outputs": [],
   "source": [
    "train_label_directory = 'data/alpaca/labels/train'\n",
    "train_labels_df = create_bboxes_df(train_label_directory)"
   ],
   "metadata": {
    "collapsed": false,
    "ExecuteTime": {
     "end_time": "2024-07-02T14:40:27.700631Z",
     "start_time": "2024-07-02T14:40:27.660481Z"
    }
   }
  },
  {
   "cell_type": "code",
   "execution_count": null,
   "outputs": [],
   "source": [
    "# choose image\n",
    "img_id = '0e6ba4d54d478f76'\n",
    "\n",
    "# get image and bounding boxes\n",
    "chosen_img = read_img(img_id)\n",
    "bboxes = read_bboxes(img_id, train_labels_df)\n",
    "bbox_params = {'format': 'yolo', 'label_fields': ['labels']}\n",
    "\n",
    "# define augmentations\n",
    "albumentation_list = [\n",
    "    A.Compose([A.RandomFog(p=1)], bbox_params=bbox_params),\n",
    "    A.Compose([A.RandomCrop(p=1, height=512, width=512)], bbox_params=bbox_params),\n",
    "    A.Compose([A.Rotate(p=1, limit=90)], bbox_params=bbox_params),\n",
    "    A.Compose([A.RGBShift(p=1)], bbox_params=bbox_params),\n",
    "    A.Compose([A.RandomSnow(p=1)], bbox_params=bbox_params),\n",
    "    A.Compose([A.VerticalFlip(p=1)], bbox_params=bbox_params)\n",
    "]\n",
    "\n",
    "# define augmentation names\n",
    "titles_list = ['Original',\n",
    "              'RandomFog',\n",
    "              'RandomCrop',\n",
    "              'Rotate,'\n",
    "              'RGBShift',\n",
    "              'RandomSnow',\n",
    "              'VerticalFlip']\n",
    "\n",
    "# add original and augmented images to the list\n",
    "img_matrix_list = [draw_rect(chosen_img, bboxes)]\n",
    "for aug_type in albumentation_list:\n",
    "    anno = aug_type(image=chosen_img, bboxes=bboxes, labels=np.ones(len(bboxes)))\n",
    "    img = draw_rect(anno['image'], anno['bboxes'])\n",
    "    img_matrix_list.append(img)\n",
    "\n",
    "# plot image and its augmentations\n",
    "plot_multiple_img(img_matrix_list, titles_list, ncols=3, main_title='Different Types of Augmentations with Bounding Boxes')"
   ],
   "metadata": {
    "collapsed": false
   }
  },
  {
   "cell_type": "code",
   "execution_count": 44,
   "outputs": [],
   "source": [
    "def augment_and_save(img_id, df, augmentations, output_img_dir, output_lbl_dir):\n",
    "    \"\"\"\n",
    "    Augment images and labels in a given directories and save them\n",
    "    \"\"\"\n",
    "    chosen_img = read_img(img_id)\n",
    "    bboxes = read_bboxes(img_id, df)\n",
    "\n",
    "    # apply augmentations and save results\n",
    "    for aug_idx, aug in enumerate(augmentations):\n",
    "        anno = aug(image=chosen_img, bboxes=bboxes, labels=np.ones(len(bboxes)))\n",
    "        img = anno['image']\n",
    "        aug_bboxes = anno['bboxes']\n",
    "\n",
    "        # save the augmented image\n",
    "        aug_img_name = f'{img_id}_aug{aug_idx}.jpg'\n",
    "        cv2.imwrite(os.path.join(output_img_dir, aug_img_name), img)\n",
    "\n",
    "        # save the augmented labels\n",
    "        aug_lbl_name = f'{img_id}_aug{aug_idx}.txt'\n",
    "        with open(os.path.join(output_lbl_dir, aug_lbl_name), 'w') as f:\n",
    "            for bbox in aug_bboxes:\n",
    "                f.write('0 '+ ' '.join(map(str, bbox)) + '\\n')"
   ],
   "metadata": {
    "collapsed": false,
    "ExecuteTime": {
     "end_time": "2024-07-02T14:40:39.748258Z",
     "start_time": "2024-07-02T14:40:39.712196Z"
    }
   }
  },
  {
   "cell_type": "code",
   "execution_count": 45,
   "outputs": [],
   "source": [
    "def get_all_image_ids(directory):\n",
    "    \"\"\"\n",
    "    Get all images from a given directory\n",
    "    \"\"\"\n",
    "    return [os.path.splitext(filename)[0] for filename in os.listdir(directory) if filename.endswith('.jpg')]"
   ],
   "metadata": {
    "collapsed": false,
    "ExecuteTime": {
     "end_time": "2024-07-02T14:40:40.932676Z",
     "start_time": "2024-07-02T14:40:40.896621Z"
    }
   }
  },
  {
   "cell_type": "code",
   "execution_count": 47,
   "outputs": [],
   "source": [
    "# define bbox parameters and augmentations to perform\n",
    "bbox_params = {'format': 'yolo', 'label_fields': ['labels']}\n",
    "\n",
    "albumentation_list = [\n",
    "    A.Compose([A.RandomFog(p=1)], bbox_params=bbox_params),\n",
    "    A.Compose([A.RandomCrop(p=1, height=512, width=512)], bbox_params=bbox_params),\n",
    "    A.Compose([A.Rotate(p=1, limit=90)], bbox_params=bbox_params),\n",
    "    A.Compose([A.RGBShift(p=1)], bbox_params=bbox_params),\n",
    "    A.Compose([A.RandomSnow(p=1)], bbox_params=bbox_params),\n",
    "    A.Compose([A.VerticalFlip(p=1)], bbox_params=bbox_params)\n",
    "]\n",
    "\n",
    "# define directories for outputting images and labels\n",
    "output_img_dir = 'data/alpaca/images/train'\n",
    "output_lbl_dir = 'data/alpaca/labels/train'\n",
    "\n",
    "image_ids = get_all_image_ids(output_img_dir)"
   ],
   "metadata": {
    "collapsed": false,
    "ExecuteTime": {
     "end_time": "2024-07-02T14:40:51.837827Z",
     "start_time": "2024-07-02T14:40:51.823068Z"
    }
   }
  },
  {
   "cell_type": "code",
   "execution_count": 48,
   "outputs": [],
   "source": [
    "# augment and save images\n",
    "for img_id in image_ids:\n",
    "    augment_and_save(img_id, train_labels_df, albumentation_list, output_img_dir, output_lbl_dir)"
   ],
   "metadata": {
    "collapsed": false,
    "ExecuteTime": {
     "end_time": "2024-07-02T14:41:19.883793Z",
     "start_time": "2024-07-02T14:40:53.152683Z"
    }
   }
  },
  {
   "cell_type": "code",
   "execution_count": 49,
   "outputs": [
    {
     "name": "stdout",
     "output_type": "stream",
     "text": [
      "Number of images after Augmentation: 658\n",
      "Number of labels after Augmentation: 658\n"
     ]
    }
   ],
   "source": [
    "# define paths to train images and labels\n",
    "base_dir = 'data/alpaca'\n",
    "images_dir = os.path.join(base_dir, 'images/train')\n",
    "labels_dir = os.path.join(base_dir, 'labels/train')\n",
    "\n",
    "# count the number of files in each directory\n",
    "num_images = len([name for name in os.listdir(images_dir) if os.path.isfile(os.path.join(images_dir, name))])\n",
    "num_labels = len([name for name in os.listdir(labels_dir) if os.path.isfile(os.path.join(labels_dir, name))])\n",
    "\n",
    "print(f\"Number of images after Augmentation: {num_images}\")\n",
    "print(f\"Number of labels after Augmentation: {num_labels}\")"
   ],
   "metadata": {
    "collapsed": false,
    "ExecuteTime": {
     "end_time": "2024-07-02T14:41:44.642939Z",
     "start_time": "2024-07-02T14:41:44.601766Z"
    }
   }
  },
  {
   "cell_type": "markdown",
   "source": [
    "## Model Training"
   ],
   "metadata": {
    "collapsed": false
   }
  },
  {
   "cell_type": "markdown",
   "source": [
    "### Helper Functions for Logging and Validation"
   ],
   "metadata": {
    "collapsed": false
   }
  },
  {
   "cell_type": "code",
   "execution_count": 8,
   "outputs": [],
   "source": [
    "def set_res_dir():\n",
    "    \"\"\"\n",
    "    Set directory to store the results of the next training\n",
    "    \"\"\"\n",
    "    res_dir_count = len(glob.glob('runs/train/*'))\n",
    "    print(f\"Current number of result directories: {res_dir_count}\")\n",
    "    if TRAIN:\n",
    "        RES_DIR = f\"results_{res_dir_count+1}\"\n",
    "        print(RES_DIR)\n",
    "    else:\n",
    "        RES_DIR = f\"results_{res_dir_count}\"\n",
    "    return RES_DIR"
   ],
   "metadata": {
    "collapsed": false,
    "ExecuteTime": {
     "end_time": "2024-07-02T10:39:27.641644Z",
     "start_time": "2024-07-02T10:39:27.632878Z"
    }
   }
  },
  {
   "cell_type": "code",
   "execution_count": 9,
   "outputs": [],
   "source": [
    "def monitor_tensorboard():\n",
    "    \"\"\"\n",
    "    Create Tensorboard\n",
    "    \"\"\"\n",
    "    %load_ext tensorboard\n",
    "    %tensorboard --logdir runs/train"
   ],
   "metadata": {
    "collapsed": false,
    "ExecuteTime": {
     "end_time": "2024-07-02T10:39:28.834086Z",
     "start_time": "2024-07-02T10:39:28.776578Z"
    }
   }
  },
  {
   "cell_type": "code",
   "execution_count": null,
   "outputs": [],
   "source": [
    "def show_val_results(RES_DIR):\n",
    "    \"\"\"\n",
    "    Check predictions of a given model on the validation set\n",
    "    \"\"\"\n",
    "    EXP_PATH = f\"runs/train/{RES_DIR}\"\n",
    "    validation_pred_images = glob.glob(f\"{EXP_PATH}/*_pred.jpg\")\n",
    "    for pred_image in validation_pred_images:\n",
    "        image = cv2.imread(pred_image)\n",
    "        plt.figure(figsize=(19, 16))\n",
    "        plt.imshow(image[:, :, ::-1])\n",
    "        plt.axis('off')\n",
    "        plt.show()"
   ],
   "metadata": {
    "collapsed": false
   }
  },
  {
   "cell_type": "code",
   "execution_count": null,
   "outputs": [],
   "source": [
    "def inference(RES_DIR, data_path):\n",
    "    infer_dir_count = len(glob.glob('runs/detect/*'))\n",
    "    print(f\"Current number of inference detection directories: {infer_dir_count}\")\n",
    "    INFER_DIR = f\"inference_{infer_dir_count+1}\"\n",
    "    print(INFER_DIR)\n",
    "    !python detect.py --weights ../runs/train/{RES_DIR}/weights/best.pt \\\n",
    "    --source {data_path} --name {INFER_DIR}\n",
    "    return INFER_DIR"
   ],
   "metadata": {
    "collapsed": false
   }
  },
  {
   "cell_type": "code",
   "execution_count": null,
   "outputs": [],
   "source": [
    "def visualize(INFER_DIR):\n",
    "    INFER_PATH = f\"runs/detect/{INFER_DIR}\"\n",
    "    infer_images = glob.glob(f\"{INFER_PATH}/*.jpg\")\n",
    "    print(infer_images)\n",
    "    for pred_image in infer_images:\n",
    "        image = cv2.imread(pred_image)\n",
    "        plt.figure(figsize=(19, 16))\n",
    "        plt.imshow(image[:, :, ::-1])\n",
    "        plt.axis('off')\n",
    "        plt.show()"
   ],
   "metadata": {
    "collapsed": false
   }
  },
  {
   "cell_type": "markdown",
   "source": [
    "### Clone YOLOv5 Repository"
   ],
   "metadata": {
    "collapsed": false
   }
  },
  {
   "cell_type": "code",
   "execution_count": 10,
   "outputs": [],
   "source": [
    "# clone yolov5 repository\n",
    "if not os.path.exists('yolov5'):\n",
    "    !git clone https://github.com/ultralytics/yolov5.git"
   ],
   "metadata": {
    "collapsed": false,
    "ExecuteTime": {
     "end_time": "2024-07-02T10:39:31.742078Z",
     "start_time": "2024-07-02T10:39:31.737774Z"
    }
   }
  },
  {
   "cell_type": "code",
   "execution_count": null,
   "outputs": [],
   "source": [
    "%cd yolov5/\n",
    "!pwd"
   ],
   "metadata": {
    "collapsed": false
   }
  },
  {
   "cell_type": "code",
   "execution_count": null,
   "outputs": [],
   "source": [
    "!pip install -r requirements.txt"
   ],
   "metadata": {
    "collapsed": false
   }
  },
  {
   "cell_type": "markdown",
   "source": [
    "### Training using YOLOv5"
   ],
   "metadata": {
    "collapsed": false
   }
  },
  {
   "cell_type": "code",
   "execution_count": 13,
   "outputs": [
    {
     "data": {
      "text/plain": "Launching TensorBoard..."
     },
     "metadata": {},
     "output_type": "display_data"
    }
   ],
   "source": [
    "monitor_tensorboard()"
   ],
   "metadata": {
    "collapsed": false,
    "ExecuteTime": {
     "end_time": "2024-07-02T10:39:39.324045Z",
     "start_time": "2024-07-02T10:39:38.286543Z"
    }
   }
  },
  {
   "cell_type": "code",
   "execution_count": null,
   "outputs": [],
   "source": [
    "RES_DIR = set_res_dir()\n",
    "if TRAIN:\n",
    "    !python train.py --data ../data.yaml --weights yolov5s.pt \\\n",
    "    --img 640 --epochs 1 --batch-size 16 --name RES_DIR"
   ],
   "metadata": {
    "collapsed": false
   }
  },
  {
   "cell_type": "markdown",
   "source": [
    "### Check Validation Predictions"
   ],
   "metadata": {
    "collapsed": false
   }
  },
  {
   "cell_type": "code",
   "execution_count": null,
   "outputs": [],
   "source": [
    "show_val_results(RES_DIR)"
   ],
   "metadata": {
    "collapsed": false
   }
  },
  {
   "cell_type": "markdown",
   "source": [
    "### Training Medium Model with Freezed Layers"
   ],
   "metadata": {
    "collapsed": false
   }
  },
  {
   "cell_type": "code",
   "execution_count": null,
   "outputs": [],
   "source": [
    "if TRAIN:\n",
    "    !python train.py --data ../data.yaml --weights yolov5m.pt \\\n",
    "    --img 640 --epochs 1 --batch-size 16 \\\n",
    "    --freeze 0 1 2 3 4 5 6 7 8 9 10 11 12 13 14 15"
   ],
   "metadata": {
    "collapsed": false
   }
  },
  {
   "cell_type": "code",
   "execution_count": null,
   "outputs": [],
   "source": [
    "show_val_results(RES_DIR)"
   ],
   "metadata": {
    "collapsed": false
   }
  },
  {
   "cell_type": "code",
   "execution_count": 19,
   "outputs": [],
   "source": [],
   "metadata": {
    "collapsed": false,
    "ExecuteTime": {
     "end_time": "2024-07-02T10:59:35.562475Z",
     "start_time": "2024-07-02T10:59:35.553453Z"
    }
   }
  }
 ],
 "metadata": {
  "kernelspec": {
   "display_name": "Python 3",
   "language": "python",
   "name": "python3"
  },
  "language_info": {
   "codemirror_mode": {
    "name": "ipython",
    "version": 2
   },
   "file_extension": ".py",
   "mimetype": "text/x-python",
   "name": "python",
   "nbconvert_exporter": "python",
   "pygments_lexer": "ipython2",
   "version": "2.7.6"
  }
 },
 "nbformat": 4,
 "nbformat_minor": 0
}
